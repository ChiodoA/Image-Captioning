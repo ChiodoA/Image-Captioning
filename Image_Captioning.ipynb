{
 "cells": [
  {
   "cell_type": "markdown",
   "metadata": {},
   "source": [
    "# Image Captioning"
   ]
  },
  {
   "cell_type": "markdown",
   "metadata": {},
   "source": [
    "## Resize the images to 224x224 format"
   ]
  },
  {
   "cell_type": "code",
   "execution_count": null,
   "metadata": {},
   "outputs": [],
   "source": [
    "from PIL import Image\n",
    "import os\n",
    "from image_tools import resize_img\n",
    "\n",
    "img_input_path = './Images'\n",
    "img_output_path = './Images224'\n",
    "\n",
    "for img_name in os.listdir(img_input_path):\n",
    "    img = Image.open(os.path.join(img_input_path, img_name)).convert('RGB')\n",
    "    img_resized = resize_img(img)\n",
    "    img_resized.save(os.path.join(img_output_path, img_name))"
   ]
  }
 ],
 "metadata": {
  "kernelspec": {
   "display_name": "imgCaption",
   "language": "python",
   "name": "python3"
  },
  "language_info": {
   "codemirror_mode": {
    "name": "ipython",
    "version": 3
   },
   "file_extension": ".py",
   "mimetype": "text/x-python",
   "name": "python",
   "nbconvert_exporter": "python",
   "pygments_lexer": "ipython3",
   "version": "3.10.16"
  }
 },
 "nbformat": 4,
 "nbformat_minor": 2
}
